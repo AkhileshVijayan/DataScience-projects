{
  "nbformat": 4,
  "nbformat_minor": 0,
  "metadata": {
    "colab": {
      "name": "Task6-Assignment4.ipynb",
      "provenance": [],
      "collapsed_sections": []
    },
    "kernelspec": {
      "name": "python3",
      "display_name": "Python 3"
    },
    "language_info": {
      "name": "python"
    }
  },
  "cells": [
    {
      "cell_type": "code",
      "execution_count": null,
      "metadata": {
        "id": "B6m8ouk1_a_K"
      },
      "outputs": [],
      "source": [
        "import numpy as np"
      ]
    },
    {
      "cell_type": "markdown",
      "source": [
        "Import phi and phi_test from train and test datasets using NumPy's loadtxt function"
      ],
      "metadata": {
        "id": "c1TqRC2aGypz"
      }
    },
    {
      "cell_type": "code",
      "source": [
        "# Import phi from train data set\n",
        "phi = np.loadtxt('/content/train.csv', dtype='float', delimiter=',', skiprows=1,\n",
        "                 usecols=tuple(range(1, 14)))"
      ],
      "metadata": {
        "id": "jlDs1PsYGwbl"
      },
      "execution_count": null,
      "outputs": []
    },
    {
      "cell_type": "code",
      "source": [
        "# Import phi_test from test data set\n",
        "phi_test = np.loadtxt('/content/test.csv', dtype='float', delimiter=',',\n",
        "                      skiprows=1, usecols=tuple(range(1, 14)))"
      ],
      "metadata": {
        "id": "x1a-M0kFG5xX"
      },
      "execution_count": null,
      "outputs": []
    },
    {
      "cell_type": "markdown",
      "source": [
        "Import y from train dataset using the loadtxt function"
      ],
      "metadata": {
        "id": "Y06qDSjoHXMe"
      }
    },
    {
      "cell_type": "code",
      "source": [
        "\n",
        "y = np.loadtxt('/content/train.csv', dtype='float', delimiter=',', skiprows=1,\n",
        "               usecols=14, ndmin=2)"
      ],
      "metadata": {
        "id": "3Sd0vY2xG500"
      },
      "execution_count": null,
      "outputs": []
    },
    {
      "cell_type": "markdown",
      "source": [
        "Concatenate coloumn of 1s to right of phi and phi_test"
      ],
      "metadata": {
        "id": "93VFWUMaI9w-"
      }
    },
    {
      "cell_type": "code",
      "source": [
        "phi_test = np.concatenate((phi_test, np.ones((105, 1))), axis=1)\n",
        "phi = np.concatenate((phi, np.ones((400, 1))), axis=1)"
      ],
      "metadata": {
        "id": "NKfulLtSJBwR"
      },
      "execution_count": null,
      "outputs": []
    },
    {
      "cell_type": "markdown",
      "source": [
        "Apply min max scaling on each coloumn of phi and phi_test"
      ],
      "metadata": {
        "id": "ApsdFnFKJGcA"
      }
    },
    {
      "cell_type": "code",
      "source": [
        "for i in range(0, 13):\n",
        "    col_max = max(phi[:, i])\n",
        "    col_min = min(phi[:, i])\n",
        "    phi[:, i] = (phi[:, i] - col_min) / (col_max - col_min)\n",
        "    phi_test[:, i] = (phi_test[:, i] - col_min) / (col_max - col_min)"
      ],
      "metadata": {
        "id": "ODF-hvX1JI-a"
      },
      "execution_count": null,
      "outputs": []
    },
    {
      "cell_type": "markdown",
      "source": [
        "Apply log scaling on y"
      ],
      "metadata": {
        "id": "9axJtcD3JL1z"
      }
    },
    {
      "cell_type": "code",
      "source": [
        "y = np.log(y)"
      ],
      "metadata": {
        "id": "_mvMKeDFJPcr"
      },
      "execution_count": null,
      "outputs": []
    },
    {
      "cell_type": "markdown",
      "source": [
        "Define a function to calculate change in error function based on phi, w and p norm"
      ],
      "metadata": {
        "id": "RjjdgxpmJSBR"
      }
    },
    {
      "cell_type": "code",
      "source": [
        "def delta_w(p, phi, w):\n",
        "    if p == 2:\n",
        "        deltaw = (2 * (np.dot(np.dot(np.transpose(phi), phi), w) -\n",
        "                       np.dot(np.transpose(phi), y)) +\n",
        "                  lambd * p * np.power(np.absolute(w), (p - 1)))\n",
        "    if p < 2 and p > 1:\n",
        "        deltaw = (2 * (np.dot(np.dot(np.transpose(phi), phi), w) -\n",
        "                       np.dot(np.transpose(phi), y)) +\n",
        "                  lambd * p * np.power(np.absolute(w), (p - 1)) * np.sign(w))\n",
        "    return deltaw\n"
      ],
      "metadata": {
        "id": "ycSZ7A1WJShO"
      },
      "execution_count": null,
      "outputs": []
    },
    {
      "cell_type": "markdown",
      "source": [
        "Make a dictionary containing filenames as keys and p as values"
      ],
      "metadata": {
        "id": "-lAFSNEFJbQk"
      }
    },
    {
      "cell_type": "code",
      "source": [
        "filenames = {'output.csv': 2.0,\n",
        "             'output_p1.csv': 1.75,\n",
        "             'output_p2.csv': 1.5,\n",
        "             'output_p3.csv': 1.3\n",
        "             }"
      ],
      "metadata": {
        "id": "mEZ961eDJfNi"
      },
      "execution_count": null,
      "outputs": []
    },
    {
      "cell_type": "markdown",
      "source": [
        "For each item in this dictionary:"
      ],
      "metadata": {
        "id": "pPSqynd8JoDI"
      }
    },
    {
      "cell_type": "markdown",
      "source": [
        "Set the w to all 0s"
      ],
      "metadata": {
        "id": "wecn5V9pJzak"
      }
    },
    {
      "cell_type": "code",
      "source": [
        "for (fname, p) in filenames.items():\n",
        "    w = np.zeros((14, 1))"
      ],
      "metadata": {
        "id": "WK2mrDP-JrAe"
      },
      "execution_count": null,
      "outputs": []
    },
    {
      "cell_type": "markdown",
      "source": [
        "Set an appropriate value for lambda(Hyperparameter) and step size"
      ],
      "metadata": {
        "id": "_Oiar9XpJuLy"
      }
    },
    {
      "cell_type": "code",
      "source": [
        "lambd = 0.2\n",
        "t = 0.00012 #Max step size"
      ],
      "metadata": {
        "id": "vBkIHKrQJ9Wu"
      },
      "execution_count": null,
      "outputs": []
    },
    {
      "cell_type": "markdown",
      "source": [
        "Calculate new value of w"
      ],
      "metadata": {
        "id": "eZiVG9NQKAlJ"
      }
    },
    {
      "cell_type": "code",
      "source": [
        "w_new = w - t * delta_w(p, phi, w)"
      ],
      "metadata": {
        "id": "fX7Lrr08KC8b"
      },
      "execution_count": null,
      "outputs": []
    },
    {
      "cell_type": "markdown",
      "source": [
        "Repeat steps until error between consecutive ws is less than threshold"
      ],
      "metadata": {
        "id": "-xl45V89KDP8"
      }
    },
    {
      "cell_type": "code",
      "source": [
        "i = 0\n",
        "while(np.linalg.norm(w_new-w) > 10 ** -10):\n",
        "        w = w_new\n",
        "        w_new = w - t * delta_w(p, phi, w)\n",
        "        i = i + 1"
      ],
      "metadata": {
        "id": "2OWv2eYBKDf_"
      },
      "execution_count": null,
      "outputs": []
    },
    {
      "cell_type": "markdown",
      "source": [
        "Load values of id from test data file"
      ],
      "metadata": {
        "id": "sxTfQd9QKDwN"
      }
    },
    {
      "cell_type": "code",
      "source": [
        "id_test = np.loadtxt('/content/test.csv', dtype='int', delimiter=',',\n",
        "                         skiprows=1, usecols=0, ndmin=2)"
      ],
      "metadata": {
        "id": "YytMLNB-KD9f"
      },
      "execution_count": null,
      "outputs": []
    },
    {
      "cell_type": "markdown",
      "source": [
        "Calculate y for test data using phi test and applying inverse log"
      ],
      "metadata": {
        "id": "Blq0ph_sKg1s"
      }
    },
    {
      "cell_type": "code",
      "source": [
        "y_test = np.exp(np.dot(phi_test, w_new))"
      ],
      "metadata": {
        "id": "zE6E6v5qKhCb"
      },
      "execution_count": null,
      "outputs": []
    },
    {
      "cell_type": "markdown",
      "source": [
        "Save the ids and y according to filename from dictionary"
      ],
      "metadata": {
        "id": "i1YPQKpvKhOE"
      }
    },
    {
      "cell_type": "code",
      "source": [
        "np.savetxt(fname, np.concatenate((id_test, y_test), axis=1),\n",
        "               delimiter=',', fmt=['%d', '%f'], header='ID,MEDV', comments='')"
      ],
      "metadata": {
        "id": "JifiVe9JKhZb"
      },
      "execution_count": null,
      "outputs": []
    }
  ]
}